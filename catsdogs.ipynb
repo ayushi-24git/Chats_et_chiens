{
 "cells": [
  {
   "cell_type": "code",
   "execution_count": null,
   "metadata": {
    "collapsed": true
   },
   "outputs": [],
   "source": [
    "from keras.layers import Conv2D, MaxPooling2D, ZeroPadding2D\n",
    "from keras.layers import Dense, Activation, Dropout, Flatten\n",
    "from keras import optimizers\n",
    "from keras.models import Sequential\n",
    "from keras.preprocessing.image import ImageDataGenerator\n",
    "import numpy as np \n",
    "\n",
    "# step 1: load data\n",
    "\n",
    "img_width = 150\n",
    "img_height = 150\n",
    "train_data_dir = '../input/train'\n",
    "valid_data_dir = '../input/test'\n",
    "\n",
    "datagen = ImageDataGenerator(rescale = 1./255)\n",
    "\n",
    "train_generator = datagen.flow_from_directory(directory=train_data_dir,\n",
    "\t\t\t\t\t\t\t\t\t\t\t   target_size=(img_width,img_height),\n",
    "\t\t\t\t\t\t\t\t\t\t\t   classes=['dogs','cats'],\n",
    "\t\t\t\t\t\t\t\t\t\t\t   class_mode='binary',\n",
    "\t\t\t\t\t\t\t\t\t\t\t   batch_size=16)\n",
    "\n",
    "validation_generator = datagen.flow_from_directory(directory=valid_data_dir,\n",
    "\t\t\t\t\t\t\t\t\t\t\t   target_size=(img_width,img_height),\n",
    "\t\t\t\t\t\t\t\t\t\t\t   classes=['dogs','cats'],\n",
    "\t\t\t\t\t\t\t\t\t\t\t   class_mode='binary',\n",
    "\t\t\t\t\t\t\t\t\t\t\t   batch_size=32)\n",
    "\n",
    "\n",
    "# step-2 : build model\n",
    "\n",
    "model =Sequential()\n",
    "\n",
    "model.add(Conv2D(32,(3,3), input_shape=(img_width, img_height, 3)))\n",
    "model.add(Activation('relu'))\n",
    "model.add(MaxPooling2D(pool_size=(2,2)))\n",
    "model.add(Conv2D(64,(3,3), input_shape=(img_width, img_height, 3)))\n",
    "model.add(Activation('relu'))\n",
    "model.add(MaxPooling2D(pool_size=(2,2)))\n",
    "model.add(Flatten())\n",
    "model.add(Dense(64))\n",
    "model.add(Activation('relu'))\n",
    "model.add(Dropout(0.5))\n",
    "model.add(Dense(1))\n",
    "model.add(Activation('sigmoid'))\n",
    "\n",
    "model.compile(loss='binary_crossentropy',optimizer='rmsprop',metrics=['accuracy'])\n",
    "\n",
    "print('Model compiled!!')\n",
    "\n",
    "print('Starting training....')\n",
    "training = model.fit_generator(generator=train_generator, steps_per_epoch=128,epochs=20,validation_data=validation_generator,use_multiprocessing=True,\n",
    "                                 workers=8,validation_steps=52)\n",
    "\n",
    "print('Training finished!!')\n",
    "print('Saving weights to simple_CNN.h5')\n",
    "model.save_weights('/simple_CNN.h5')\n",
    "print('All weights saved successfully !!')\n"
   ]
  }
 ],
 "metadata": {
  "kernelspec": {
   "display_name": "Python 3",
   "language": "python",
   "name": "python3"
  },
  "language_info": {
   "codemirror_mode": {
    "name": "ipython",
    "version": 3
   },
   "file_extension": ".py",
   "mimetype": "text/x-python",
   "name": "python",
   "nbconvert_exporter": "python",
   "pygments_lexer": "ipython3",
   "version": "3.6.8"
  }
 },
 "nbformat": 4,
 "nbformat_minor": 2
}
